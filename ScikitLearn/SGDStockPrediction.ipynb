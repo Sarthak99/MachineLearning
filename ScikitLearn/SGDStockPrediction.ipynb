{
 "cells": [
  {
   "cell_type": "code",
   "execution_count": 1,
   "metadata": {},
   "outputs": [],
   "source": [
    "import numpy as np\n",
    "import pandas as pd"
   ]
  },
  {
   "cell_type": "code",
   "execution_count": 2,
   "metadata": {},
   "outputs": [],
   "source": [
    "def readFile(filename,tbond=False):\n",
    "    data=pd.read_csv(filename,sep=\",\",usecols=[0,6],names=[\"Date\",\"Price\"],header=0)\n",
    "    if tbond==False:\n",
    "        returns=np.array(data[\"Price\"][:-1],np.float)/np.array(data[\"Price\"][1:],np.float)-1\n",
    "        data[\"Returns\"]=np.append(returns,np.nan)\n",
    "    if tbond==True:\n",
    "        data[\"Returns\"]=data[\"Price\"]/100\n",
    "    data.index=data[\"Date\"]\n",
    "    data = data[\"Returns\"][0:-1]\n",
    "    return data"
   ]
  },
  {
   "cell_type": "code",
   "execution_count": 3,
   "metadata": {},
   "outputs": [],
   "source": [
    "googData=readFile(\"D:\\\\Git\\\\MachineLearning\\\\ScikitLearn\\\\Datasets\\\\Stock\\\\GOOG.csv\")\n",
    "nasdaqData=readFile(\"D:\\\\Git\\\\MachineLearning\\\\ScikitLearn\\\\Datasets\\\\Stock\\\\nasdaq.csv\")\n",
    "tbondData=readFile(\"D:\\\\Git\\\\MachineLearning\\\\ScikitLearn\\\\Datasets\\\\Stock\\\\treasuryYield.csv\",tbond=True)"
   ]
  },
  {
   "cell_type": "code",
   "execution_count": 4,
   "metadata": {},
   "outputs": [
    {
     "data": {
      "text/plain": [
       "Date\n",
       "2010-01-01    0.005960\n",
       "2010-02-01   -0.071096\n",
       "2010-03-01    0.078790\n",
       "2010-04-01    0.082511\n",
       "2010-05-01    0.091426\n",
       "2010-06-01   -0.082293\n",
       "2010-07-01    0.077397\n",
       "2010-08-01   -0.144107\n",
       "2010-09-01   -0.143246\n",
       "2010-10-01    0.104353\n",
       "Name: Returns, dtype: float64"
      ]
     },
     "execution_count": 4,
     "metadata": {},
     "output_type": "execute_result"
    }
   ],
   "source": [
    "googData.head(10)"
   ]
  },
  {
   "cell_type": "code",
   "execution_count": 5,
   "metadata": {},
   "outputs": [
    {
     "data": {
      "text/plain": [
       "Date\n",
       "2010-01-01    0.02348\n",
       "2010-02-01    0.02284\n",
       "2010-03-01    0.02560\n",
       "2010-04-01    0.02420\n",
       "2010-05-01    0.02097\n",
       "2010-06-01    0.01795\n",
       "2010-07-01    0.01598\n",
       "2010-08-01    0.01342\n",
       "2010-09-01    0.01281\n",
       "2010-10-01    0.01179\n",
       "Name: Returns, dtype: float64"
      ]
     },
     "execution_count": 5,
     "metadata": {},
     "output_type": "execute_result"
    }
   ],
   "source": [
    "tbondData.head(10)"
   ]
  },
  {
   "cell_type": "code",
   "execution_count": 6,
   "metadata": {},
   "outputs": [
    {
     "data": {
      "text/plain": [
       "Date\n",
       "2010-01-01   -0.040616\n",
       "2010-02-01   -0.066598\n",
       "2010-03-01   -0.025691\n",
       "2010-04-01    0.090450\n",
       "2010-05-01    0.070073\n",
       "2010-06-01   -0.064514\n",
       "2010-07-01    0.066541\n",
       "2010-08-01   -0.107485\n",
       "2010-09-01   -0.055352\n",
       "2010-10-01    0.003675\n",
       "2010-11-01   -0.058292\n",
       "2010-12-01   -0.017485\n",
       "2011-01-01   -0.029541\n",
       "2011-02-01    0.000431\n",
       "2011-03-01   -0.032180\n",
       "2011-04-01    0.013487\n",
       "2011-05-01    0.022275\n",
       "2011-06-01    0.006218\n",
       "2011-07-01    0.068588\n",
       "2011-08-01    0.067923\n",
       "2011-09-01   -0.100212\n",
       "2011-10-01    0.024451\n",
       "2011-11-01    0.005831\n",
       "2011-12-01   -0.074166\n",
       "2012-01-01   -0.051586\n",
       "2012-02-01   -0.040329\n",
       "2012-03-01    0.014841\n",
       "2012-04-01    0.077465\n",
       "2012-05-01   -0.036698\n",
       "2012-06-01   -0.001521\n",
       "                ...   \n",
       "2013-07-01    0.010167\n",
       "2013-08-01   -0.048153\n",
       "2013-09-01   -0.037817\n",
       "2013-10-01   -0.034528\n",
       "2013-11-01   -0.027941\n",
       "2013-12-01    0.017717\n",
       "2014-01-01   -0.047408\n",
       "2014-02-01    0.025990\n",
       "2014-03-01    0.020520\n",
       "2014-04-01   -0.030184\n",
       "2014-05-01   -0.037557\n",
       "2014-06-01    0.008790\n",
       "2014-07-01   -0.045958\n",
       "2014-08-01    0.019335\n",
       "2014-09-01   -0.029661\n",
       "2014-10-01   -0.033577\n",
       "2014-11-01    0.011736\n",
       "2014-12-01    0.021749\n",
       "2015-01-01   -0.066140\n",
       "2015-02-01    0.012783\n",
       "2015-03-01   -0.008204\n",
       "2015-04-01   -0.025367\n",
       "2015-05-01    0.016676\n",
       "2015-06-01   -0.027574\n",
       "2015-07-01    0.065570\n",
       "2015-08-01    0.041676\n",
       "2015-09-01   -0.085796\n",
       "2015-10-01   -0.010750\n",
       "2015-11-01    0.020222\n",
       "2015-12-01    0.085276\n",
       "Name: Returns, Length: 72, dtype: float64"
      ]
     },
     "execution_count": 6,
     "metadata": {},
     "output_type": "execute_result"
    }
   ],
   "source": [
    "nasdaqData"
   ]
  },
  {
   "cell_type": "code",
   "execution_count": 7,
   "metadata": {},
   "outputs": [],
   "source": [
    "from sklearn.linear_model import SGDRegressor,LinearRegression"
   ]
  },
  {
   "cell_type": "code",
   "execution_count": 8,
   "metadata": {},
   "outputs": [],
   "source": [
    "reg = SGDRegressor(eta0=0.1,n_iter=100000,fit_intercept=False)"
   ]
  },
  {
   "cell_type": "code",
   "execution_count": 9,
   "metadata": {},
   "outputs": [
    {
     "name": "stderr",
     "output_type": "stream",
     "text": [
      "C:\\ProgramData\\Anaconda3\\lib\\site-packages\\sklearn\\linear_model\\stochastic_gradient.py:152: DeprecationWarning: n_iter parameter is deprecated in 0.19 and will be removed in 0.21. Use max_iter and tol instead.\n",
      "  DeprecationWarning)\n"
     ]
    },
    {
     "data": {
      "text/plain": [
       "SGDRegressor(alpha=0.0001, average=False, early_stopping=False, epsilon=0.1,\n",
       "       eta0=0.1, fit_intercept=False, l1_ratio=0.15,\n",
       "       learning_rate='invscaling', loss='squared_loss', max_iter=None,\n",
       "       n_iter=100000, n_iter_no_change=5, penalty='l2', power_t=0.25,\n",
       "       random_state=None, shuffle=True, tol=None, validation_fraction=0.1,\n",
       "       verbose=0, warm_start=False)"
      ]
     },
     "execution_count": 9,
     "metadata": {},
     "output_type": "execute_result"
    }
   ],
   "source": [
    "reg.fit((nasdaqData-tbondData).values.reshape(-1,1),(googData-tbondData))\n",
    "# (nasdaqData-tbondData)"
   ]
  },
  {
   "cell_type": "code",
   "execution_count": 10,
   "metadata": {},
   "outputs": [
    {
     "data": {
      "text/plain": [
       "array([0.88240408])"
      ]
     },
     "execution_count": 10,
     "metadata": {},
     "output_type": "execute_result"
    }
   ],
   "source": [
    "reg.coef_"
   ]
  },
  {
   "cell_type": "code",
   "execution_count": null,
   "metadata": {},
   "outputs": [],
   "source": []
  }
 ],
 "metadata": {
  "kernelspec": {
   "display_name": "Python 3",
   "language": "python",
   "name": "python3"
  },
  "language_info": {
   "codemirror_mode": {
    "name": "ipython",
    "version": 3
   },
   "file_extension": ".py",
   "mimetype": "text/x-python",
   "name": "python",
   "nbconvert_exporter": "python",
   "pygments_lexer": "ipython3",
   "version": "3.7.3"
  }
 },
 "nbformat": 4,
 "nbformat_minor": 2
}
